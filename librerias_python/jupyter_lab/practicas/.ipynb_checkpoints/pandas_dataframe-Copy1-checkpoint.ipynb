{
 "cells": [
  {
   "cell_type": "code",
   "execution_count": 1,
   "id": "5dfa1312-8020-452b-9068-17011873a992",
   "metadata": {},
   "outputs": [],
   "source": [
    "import pandas as pd\n",
    "import numpy as np\n",
    "import matplotlib.pyplot as plt"
   ]
  },
  {
   "cell_type": "code",
   "execution_count": null,
   "id": "cb9c9f90-d0ff-426f-9c0a-9f3d10d6160b",
   "metadata": {},
   "outputs": [],
   "source": [
    "nombre_paises=[\"China\",\"India\",\"Estados Unidos\", \"Indonesia\",\"Pakistán\",\"Brasil\",\"Nigeria\",\"Bangladesh\",\"Rusia\",\"México\"]\n",
    "encabezado = [\"Poblacion\",\"Porcentaje\"]\n",
    "datos=[[1439,18.47],\n",
    "            [1380,17.70],  \n",
    "            [331,4.25],\n",
    "            [273,3.51],\n",
    "            [220,2.83],\n",
    "            [212,2.73],\n",
    "            [206,2.64],\n",
    "            [164,2.11],\n",
    "            [145,1.87],\n",
    "            [128,1.65]]\n",
    "paises = pd.DataFrame(datos,index=nombre_paises,columns=encabezado)\n",
    "print(paises)\n",
    "print(\"\\n\")\n",
    "print(paises.iloc[0:4])\n",
    "print(\"\\n\")\n",
    "print(paises.loc[\"Brasil\"])\n",
    "print(\"\\n\")\n",
    "reglon = pd.Series(name=\"Japón\", data=[126,1.62], index=[\"Poblacion\", \"Porcentaje\"])\n",
    "# print(reglon)\n",
    "print(\"\\n\")\n",
    "paises = paises.append(reglon)\n",
    "print(paises)\n",
    "print(\"\\n\")\n",
    "paises.drop([\"Japón\"],axis=0,inplace=True)\n",
    "print(paises)\n",
    "print(\"\\n\")\n",
    "print(paises.cumsum())\n",
    "\n",
    "\n",
    "\n",
    "\n",
    "\n",
    "\n",
    "\n",
    "\n",
    "\n",
    "# df = pd.DataFrame({\"columna1\":[1,2,3],\n",
    "#                                 \"Columna2\":[4,5,6],\n",
    "#                                 \"Columna3\":[7,8,9,]})\n",
    "# print(df)\n",
    "# print(df.shape)\n",
    "# nombres = [\"columna0\", \"columna1\",\"columna2\"]\n",
    "# df.columns=nombres\n",
    "# print(df)\n",
    "\n",
    "\n",
    "\n",
    "\n",
    "\n",
    "\n",
    "\n",
    "\n",
    "# pd.set_option(\"display.max_columns\", 20)\n",
    "# df = pd.read_csv(\"StudentsPerformance.csv\")\n",
    "# print(df)\n",
    "# print(df.sum(axis=1))"
   ]
  }
 ],
 "metadata": {
  "kernelspec": {
   "display_name": "Python 3 (ipykernel)",
   "language": "python",
   "name": "python3"
  },
  "language_info": {
   "codemirror_mode": {
    "name": "ipython",
    "version": 3
   },
   "file_extension": ".py",
   "mimetype": "text/x-python",
   "name": "python",
   "nbconvert_exporter": "python",
   "pygments_lexer": "ipython3",
   "version": "3.9.13"
  }
 },
 "nbformat": 4,
 "nbformat_minor": 5
}
